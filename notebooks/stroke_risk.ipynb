{
 "cells": [
  {
   "cell_type": "code",
   "execution_count": 1,
   "id": "33e1ce2b",
   "metadata": {},
   "outputs": [],
   "source": [
    "import pandas as pd\n",
    "import numpy as np\n",
    "import matplotlib.pyplot as plt\n",
    "\n",
    "import sys\n",
    "sys.path.append('../src')\n",
    "from models import DNMC, NMC, NSurv, MLP, discrete_ci, train_model, evaluate_model\n",
    "from generate_data import onehot\n",
    "\n",
    "import tensorflow as tf\n",
    "from tensorflow import keras\n",
    "\n",
    "tf.random.set_seed(2021)"
   ]
  },
  {
   "cell_type": "code",
   "execution_count": 2,
   "id": "5c4d6cd9",
   "metadata": {},
   "outputs": [
    {
     "data": {
      "text/plain": [
       "'2.4.0'"
      ]
     },
     "execution_count": 2,
     "metadata": {},
     "output_type": "execute_result"
    }
   ],
   "source": [
    "tf.__version__"
   ]
  },
  {
   "cell_type": "code",
   "execution_count": 3,
   "id": "5ba150b3",
   "metadata": {},
   "outputs": [
    {
     "name": "stderr",
     "output_type": "stream",
     "text": [
      "/Users/mme/miniforge3/envs/tf2.4/lib/python3.8/site-packages/IPython/core/interactiveshell.py:3444: DtypeWarning: Columns (30) have mixed types.Specify dtype option on import or set low_memory=False.\n",
      "  exec(code_obj, self.user_global_ns, self.user_ns)\n"
     ]
    }
   ],
   "source": [
    "df = pd.read_csv('../datasets/stroke_risk_ads_v2.csv')"
   ]
  },
  {
   "cell_type": "code",
   "execution_count": 4,
   "id": "b8dc35f4",
   "metadata": {},
   "outputs": [
    {
     "name": "stdout",
     "output_type": "stream",
     "text": [
      "['lvh', 'sysbp', 'currsmk', 'hdl', 'sex', 'age', 'afib', 'tc', 'diab', 'hrx', 'hxcvd']\n"
     ]
    }
   ],
   "source": [
    "FRAMINGHAM_PREDICTORS = ['age', 'sex', 'sysbp', 'hrx', 'hxcvd', 'lvh', 'currsmk', 'afib', 'diab']\n",
    "REGARDS_PREDICTORS = ['age', 'sex', 'race_c', 'afib', 'hrx', 'hxmi', 'currsmk', 'educlev', 'genhlth', 'genhlth2']\n",
    "ASCVD_PREDICTORS = ['age', 'tc', 'hdl', 'sysbp', 'hrx', 'currsmk', 'diab']\n",
    "\n",
    "ALL_PREDICTORS = list(set(FRAMINGHAM_PREDICTORS) | set(REGARDS_PREDICTORS) | set(ASCVD_PREDICTORS))\n",
    "\n",
    "# probably easiest to treat genhlth(2) as numeric\n",
    "# check with Daniel\n",
    "\n",
    "OUTCOMES = ['stroke', 't2stroke']\n",
    "\n",
    "PREDICTORS = list(set(FRAMINGHAM_PREDICTORS) | set(ASCVD_PREDICTORS))\n",
    "\n",
    "print(PREDICTORS)"
   ]
  },
  {
   "cell_type": "code",
   "execution_count": 5,
   "id": "316c6966",
   "metadata": {},
   "outputs": [
    {
     "name": "stdout",
     "output_type": "stream",
     "text": [
      "Frame sizes are (26527, 11) (5684, 11) (5685, 11) (27032, 11)\n"
     ]
    }
   ],
   "source": [
    "frame = df[df['study'] != 'REGARDS'].sample(frac=1., random_state=99)\n",
    "\n",
    "val_idx = int(len(frame) * .7)\n",
    "test_idx = int(len(frame) * .85)\n",
    "\n",
    "train_frame = frame[:val_idx][PREDICTORS]\n",
    "\n",
    "train_median = train_frame.median()\n",
    "train_frame = train_frame.fillna(train_median)\n",
    "\n",
    "train_mean = train_frame.mean()\n",
    "train_std = train_frame.std()\n",
    "\n",
    "x_train = ((train_frame - train_mean) / train_std).values\n",
    "\n",
    "x_val = ((frame[val_idx:test_idx][PREDICTORS].fillna(train_median) - train_mean) / train_std).values\n",
    "x_test = ((frame[test_idx:][PREDICTORS].fillna(train_median) - train_mean) / train_std).values\n",
    "\n",
    "regards_frame = df[df['study'] == 'REGARDS'].sample(frac=1., random_state=99)\n",
    "                  \n",
    "x_regards = ((regards_frame[PREDICTORS].fillna(train_median) - train_mean) / train_std).values\n",
    "\n",
    "print('Frame sizes are', x_train.shape, x_val.shape, x_test.shape, x_regards.shape)"
   ]
  },
  {
   "cell_type": "code",
   "execution_count": 6,
   "id": "ed456bc6",
   "metadata": {},
   "outputs": [],
   "source": [
    "### SET GLOBAL PARAMETERS\n",
    "\n",
    "N_FEATURES = train_frame.shape[1]\n",
    "N_BINS = 10\n",
    "LEARNING_RATE = 6e-4\n",
    "\n",
    "rs = np.random.RandomState(7)"
   ]
  },
  {
   "cell_type": "code",
   "execution_count": 7,
   "id": "548df2cf",
   "metadata": {},
   "outputs": [
    {
     "name": "stdout",
     "output_type": "stream",
     "text": [
      "(26527,) (26527, 10) (5684,) (5684, 10) (5685,) (5685, 10) (27032,) (27032, 10)\n"
     ]
    }
   ],
   "source": [
    "s = frame['stroke'].values\n",
    "\n",
    "s_train = s[:val_idx]\n",
    "s_val = s[val_idx:test_idx]\n",
    "s_test = s[test_idx:]\n",
    "s_regards = regards_frame['stroke'].values\n",
    "\n",
    "y_continuous = frame['t2stroke'].values\n",
    "y_regards_continuous = regards_frame['t2stroke'].values\n",
    "y_all = np.concatenate([y_continuous, y_regards_continuous])\n",
    "\n",
    "y_disc = np.zeros_like(y_continuous)\n",
    "y_regards_disc = np.zeros_like(y_regards_continuous)\n",
    "\n",
    "for i in range(1, N_BINS):\n",
    "\n",
    "    prc = np.percentile(y_all, 100 * i / N_BINS)\n",
    "\n",
    "    y_disc = y_disc + (y_continuous > prc).astype(int)\n",
    "    y_regards_disc = y_regards_disc + (y_regards_continuous > prc).astype(int)\n",
    "\n",
    "y = onehot(y_disc)\n",
    "\n",
    "y_train = y[:val_idx]\n",
    "y_val = y[val_idx:test_idx]\n",
    "y_test = y[test_idx:]\n",
    "\n",
    "y_regards = onehot(y_regards_disc)\n",
    "\n",
    "print(\n",
    "    s_train.shape, y_train.shape,\n",
    "    s_val.shape, y_val.shape,\n",
    "    s_test.shape, y_test.shape,\n",
    "    s_regards.shape, y_regards.shape)"
   ]
  },
  {
   "cell_type": "code",
   "execution_count": 10,
   "id": "956d037e",
   "metadata": {},
   "outputs": [
    {
     "name": "stdout",
     "output_type": "stream",
     "text": [
      "Epoch  7 | Train Loss: 2.9476 | Train NLL: 2.1548 | Val Loss: 2.9680 | Val NLL: 2.17278\n",
      "\n"
     ]
    }
   ],
   "source": [
    "model = DNMC(n_bins=N_BINS, lr=.03, ld=10.)\n",
    "        \n",
    "train_model(\n",
    "    model, (x_train, y_train, s_train), (x_val, y_val, s_val),\n",
    "    300, batch_size=500,\n",
    "    learning_rate=1e-3)"
   ]
  },
  {
   "cell_type": "code",
   "execution_count": 26,
   "id": "f42667db",
   "metadata": {},
   "outputs": [],
   "source": [
    "def get_batches(arr, batch_size=1):\n",
    "    l = len(arr)\n",
    "    for ndx in range(0, l, batch_size):\n",
    "        yield arr[ndx:min(ndx + batch_size, l)]\n",
    "\n",
    "def get_predictions(mdl, x_all, batch_size=50):\n",
    "    \n",
    "    e_pred_all, t_pred_all, c_pred_all = [], [], []\n",
    "\n",
    "    for xt in get_batches(x_all, batch_size=batch_size):\n",
    "\n",
    "        e_pred, t_pred, c_pred = model(xt)\n",
    "        e_pred_all.append(e_pred)\n",
    "        t_pred_all.append(t_pred)\n",
    "        c_pred_all.append(c_pred)\n",
    "        \n",
    "    return (np.concatenate(arrs, axis=0) for arrs in (e_pred_all, t_pred_all, c_pred_all))"
   ]
  },
  {
   "cell_type": "code",
   "execution_count": 73,
   "id": "05950698",
   "metadata": {},
   "outputs": [],
   "source": [
    "e_test_pred, t_test_pred, c_test_pred = get_predictions(model, x_test)\n",
    "e_test_regards, t_test_regards, c_test_regards = get_predictions(model, x_regards)"
   ]
  },
  {
   "cell_type": "code",
   "execution_count": 74,
   "id": "24c22189",
   "metadata": {},
   "outputs": [],
   "source": [
    "from models import discrete_ci\n",
    "from sklearn.metrics import roc_auc_score"
   ]
  },
  {
   "cell_type": "code",
   "execution_count": 89,
   "id": "3db8be5b",
   "metadata": {},
   "outputs": [],
   "source": [
    "test_ci = discrete_ci(\n",
    "    s_test, y_test,\n",
    "    e_test_pred[:, np.newaxis] * t_test_pred\n",
    ")\n",
    "\n",
    "regards_ci = discrete_ci(\n",
    "    s_regards, y_regards,\n",
    "    e_test_regards[:, np.newaxis] * t_test_regards\n",
    ")"
   ]
  },
  {
   "cell_type": "code",
   "execution_count": 90,
   "id": "a351cb15",
   "metadata": {},
   "outputs": [
    {
     "data": {
      "text/plain": [
       "(0.7184070244944746, 0.6650356378426125)"
      ]
     },
     "execution_count": 90,
     "metadata": {},
     "output_type": "execute_result"
    }
   ],
   "source": [
    "test_ci, regards_ci"
   ]
  },
  {
   "cell_type": "code",
   "execution_count": 97,
   "id": "1f57dffc",
   "metadata": {},
   "outputs": [
    {
     "data": {
      "image/png": "[encoded data removed]",
      "text/plain": [
       "<Figure size 432x288 with 1 Axes>"
      ]
     },
     "metadata": {},
     "output_type": "display_data"
    }
   ],
   "source": [
    "import matplotlib.pyplot as plt\n",
    "import seaborn as sns\n",
    "sns.set()\n",
    "sns.violinplot(x=s_test, y=e_test_pred, labels=['hi', 'hello'])\n",
    "plt.show()"
   ]
  },
  {
   "cell_type": "code",
   "execution_count": 93,
   "id": "7593d095",
   "metadata": {},
   "outputs": [
    {
     "name": "stdout",
     "output_type": "stream",
     "text": [
      "MannwhitneyuResult(statistic=907093.0, pvalue=4.001159753692566e-26)\n",
      "cohens d is 0.61464655\n"
     ]
    }
   ],
   "source": [
    "from scipy.stats import mannwhitneyu\n",
    "\n",
    "print(mannwhitneyu(e_test_pred[s_test == 1], e_test_pred[s_test == 0]))\n",
    "print('cohens d is', (e_test_pred[s_test == 1].mean() - e_test_pred[s_test == 0].mean()) / e_test_pred.std())"
   ]
  },
  {
   "cell_type": "code",
   "execution_count": 78,
   "id": "3a36c70d",
   "metadata": {},
   "outputs": [],
   "source": [
    "PREDICTOR_DICT = {\n",
    "    'sex': 'Sex',\n",
    "    'age': 'Age',\n",
    "    'sysbp': 'Systolic Blood Pressure',\n",
    "    'hrx': 'Treated for High Blood Pressure',\n",
    "    'hxcvd': 'History of Cardiovascular Disease',\n",
    "    'lvh': 'Left Ventricular Hypertrophy',\n",
    "    'currsmk': 'Current Smoker',\n",
    "    'afib': 'Atrial Fibrillation',\n",
    "    'diab': 'Diabetes',\n",
    "    'tc': 'Total Cholesterol',\n",
    "    'hdl': 'HDL Cholesterol'\n",
    "}"
   ]
  },
  {
   "cell_type": "code",
   "execution_count": 79,
   "id": "1d9f2aaf",
   "metadata": {},
   "outputs": [],
   "source": [
    "importances = pd.DataFrame({\n",
    "    'predictor': [PREDICTOR_DICT[p] for p in PREDICTORS],\n",
    "    'omega_max': np.abs(model.omega_layers[0].get_weights()[0]).max(axis=1),\n",
    "    'psi_max': np.abs(model.psi_layers[0].get_weights()[0]).max(axis=1),\n",
    "    'phi_max': np.abs(model.phi_layers[0].get_weights()[0]).max(axis=1),\n",
    "    'omega_avg': np.abs(model.omega_layers[0].get_weights()[0]).mean(axis=1),\n",
    "    'psi_avg': np.abs(model.psi_layers[0].get_weights()[0]).mean(axis=1),\n",
    "    'phi_avg': np.abs(model.phi_layers[0].get_weights()[0]).mean(axis=1)\n",
    "})"
   ]
  },
  {
   "cell_type": "code",
   "execution_count": 87,
   "id": "13046c93",
   "metadata": {},
   "outputs": [],
   "source": [
    "# TIMING\n",
    "timing = importances.set_index('predictor')['omega_avg'].sort_values(ascending=False)\n",
    "timing = (timing / timing.max()).round(2).to_clipboard()"
   ]
  },
  {
   "cell_type": "code",
   "execution_count": 88,
   "id": "ef0d510e",
   "metadata": {},
   "outputs": [],
   "source": [
    "# SUSCEPTIBILITY\n",
    "suscept = importances.set_index('predictor')['phi_avg'].sort_values(ascending=False)\n",
    "suscept = (suscept / suscept.max()).round(2).to_clipboard()"
   ]
  },
  {
   "cell_type": "code",
   "execution_count": 85,
   "id": "fe9a2fcb",
   "metadata": {},
   "outputs": [
    {
     "data": {
      "text/html": [
       "<div>\n",
       "<style scoped>\n",
       "    .dataframe tbody tr th:only-of-type {\n",
       "        vertical-align: middle;\n",
       "    }\n",
       "\n",
       "    .dataframe tbody tr th {\n",
       "        vertical-align: top;\n",
       "    }\n",
       "\n",
       "    .dataframe thead th {\n",
       "        text-align: right;\n",
       "    }\n",
       "</style>\n",
       "<table border=\"1\" class=\"dataframe\">\n",
       "  <thead>\n",
       "    <tr style=\"text-align: right;\">\n",
       "      <th></th>\n",
       "      <th>predictor</th>\n",
       "      <th>omega_max</th>\n",
       "      <th>psi_max</th>\n",
       "      <th>phi_max</th>\n",
       "      <th>omega_avg</th>\n",
       "      <th>psi_avg</th>\n",
       "      <th>phi_avg</th>\n",
       "    </tr>\n",
       "  </thead>\n",
       "  <tbody>\n",
       "    <tr>\n",
       "      <th>5</th>\n",
       "      <td>Age</td>\n",
       "      <td>0.161333</td>\n",
       "      <td>0.066443</td>\n",
       "      <td>0.000140</td>\n",
       "      <td>0.042875</td>\n",
       "      <td>0.008880</td>\n",
       "      <td>0.000007</td>\n",
       "    </tr>\n",
       "    <tr>\n",
       "      <th>7</th>\n",
       "      <td>Total Cholesterol</td>\n",
       "      <td>0.111981</td>\n",
       "      <td>0.020937</td>\n",
       "      <td>0.000143</td>\n",
       "      <td>0.034707</td>\n",
       "      <td>0.002630</td>\n",
       "      <td>0.000009</td>\n",
       "    </tr>\n",
       "    <tr>\n",
       "      <th>2</th>\n",
       "      <td>Current Smoker</td>\n",
       "      <td>0.074408</td>\n",
       "      <td>0.012352</td>\n",
       "      <td>0.000264</td>\n",
       "      <td>0.023891</td>\n",
       "      <td>0.001988</td>\n",
       "      <td>0.000010</td>\n",
       "    </tr>\n",
       "    <tr>\n",
       "      <th>1</th>\n",
       "      <td>Systolic Blood Pressure</td>\n",
       "      <td>0.100994</td>\n",
       "      <td>0.012943</td>\n",
       "      <td>0.000268</td>\n",
       "      <td>0.033943</td>\n",
       "      <td>0.001889</td>\n",
       "      <td>0.000013</td>\n",
       "    </tr>\n",
       "    <tr>\n",
       "      <th>10</th>\n",
       "      <td>History of Cardiovascular Disease</td>\n",
       "      <td>0.098967</td>\n",
       "      <td>0.007927</td>\n",
       "      <td>0.000201</td>\n",
       "      <td>0.015997</td>\n",
       "      <td>0.001864</td>\n",
       "      <td>0.000012</td>\n",
       "    </tr>\n",
       "    <tr>\n",
       "      <th>4</th>\n",
       "      <td>Sex</td>\n",
       "      <td>0.094191</td>\n",
       "      <td>0.010890</td>\n",
       "      <td>0.000286</td>\n",
       "      <td>0.023818</td>\n",
       "      <td>0.001778</td>\n",
       "      <td>0.000010</td>\n",
       "    </tr>\n",
       "    <tr>\n",
       "      <th>8</th>\n",
       "      <td>Diabetes</td>\n",
       "      <td>0.090581</td>\n",
       "      <td>0.008946</td>\n",
       "      <td>0.000212</td>\n",
       "      <td>0.015452</td>\n",
       "      <td>0.001424</td>\n",
       "      <td>0.000011</td>\n",
       "    </tr>\n",
       "    <tr>\n",
       "      <th>9</th>\n",
       "      <td>Treated for High Blood Pressure</td>\n",
       "      <td>0.079775</td>\n",
       "      <td>0.008171</td>\n",
       "      <td>0.000279</td>\n",
       "      <td>0.015196</td>\n",
       "      <td>0.001085</td>\n",
       "      <td>0.000011</td>\n",
       "    </tr>\n",
       "    <tr>\n",
       "      <th>6</th>\n",
       "      <td>Atrial Fibrillation</td>\n",
       "      <td>0.031679</td>\n",
       "      <td>0.006921</td>\n",
       "      <td>0.000199</td>\n",
       "      <td>0.006337</td>\n",
       "      <td>0.001023</td>\n",
       "      <td>0.000011</td>\n",
       "    </tr>\n",
       "    <tr>\n",
       "      <th>3</th>\n",
       "      <td>HDL Cholesterol</td>\n",
       "      <td>0.112819</td>\n",
       "      <td>0.005123</td>\n",
       "      <td>0.000196</td>\n",
       "      <td>0.029817</td>\n",
       "      <td>0.000892</td>\n",
       "      <td>0.000008</td>\n",
       "    </tr>\n",
       "    <tr>\n",
       "      <th>0</th>\n",
       "      <td>Left Ventricular Hypertrophy</td>\n",
       "      <td>0.067127</td>\n",
       "      <td>0.001967</td>\n",
       "      <td>0.000219</td>\n",
       "      <td>0.014124</td>\n",
       "      <td>0.000399</td>\n",
       "      <td>0.000013</td>\n",
       "    </tr>\n",
       "  </tbody>\n",
       "</table>\n",
       "</div>"
      ],
      "text/plain": [
       "                            predictor  omega_max   psi_max   phi_max  \\\n",
       "5                                 Age   0.161333  0.066443  0.000140   \n",
       "7                   Total Cholesterol   0.111981  0.020937  0.000143   \n",
       "2                      Current Smoker   0.074408  0.012352  0.000264   \n",
       "1             Systolic Blood Pressure   0.100994  0.012943  0.000268   \n",
       "10  History of Cardiovascular Disease   0.098967  0.007927  0.000201   \n",
       "4                                 Sex   0.094191  0.010890  0.000286   \n",
       "8                            Diabetes   0.090581  0.008946  0.000212   \n",
       "9     Treated for High Blood Pressure   0.079775  0.008171  0.000279   \n",
       "6                 Atrial Fibrillation   0.031679  0.006921  0.000199   \n",
       "3                     HDL Cholesterol   0.112819  0.005123  0.000196   \n",
       "0        Left Ventricular Hypertrophy   0.067127  0.001967  0.000219   \n",
       "\n",
       "    omega_avg   psi_avg   phi_avg  \n",
       "5    0.042875  0.008880  0.000007  \n",
       "7    0.034707  0.002630  0.000009  \n",
       "2    0.023891  0.001988  0.000010  \n",
       "1    0.033943  0.001889  0.000013  \n",
       "10   0.015997  0.001864  0.000012  \n",
       "4    0.023818  0.001778  0.000010  \n",
       "8    0.015452  0.001424  0.000011  \n",
       "9    0.015196  0.001085  0.000011  \n",
       "6    0.006337  0.001023  0.000011  \n",
       "3    0.029817  0.000892  0.000008  \n",
       "0    0.014124  0.000399  0.000013  "
      ]
     },
     "execution_count": 85,
     "metadata": {},
     "output_type": "execute_result"
    }
   ],
   "source": [
    "# SHARED\n",
    "importances.sort_values(by='psi_avg', ascending=False)"
   ]
  },
  {
   "cell_type": "code",
   "execution_count": 91,
   "id": "db1e9755",
   "metadata": {},
   "outputs": [
    {
     "name": "stdout",
     "output_type": "stream",
     "text": [
      "Epoch 50 | Train Loss: 2.1472 | Train NLL: 2.1044 | Val Loss: 2.1699 | Val NLL: 2.12759\n",
      "\n"
     ]
    }
   ],
   "source": [
    "nmc_model = NMC(n_bins=N_BINS, lr=.03, ld=10.)\n",
    "        \n",
    "train_model(\n",
    "    nmc_model, (x_train, y_train, s_train), (x_val, y_val, s_val),\n",
    "    300, batch_size=500,\n",
    "    learning_rate=1e-3)"
   ]
  },
  {
   "cell_type": "code",
   "execution_count": 99,
   "id": "7e3948ba",
   "metadata": {},
   "outputs": [
    {
     "name": "stdout",
     "output_type": "stream",
     "text": [
      "0.7184070244944746 0.6650356378426125\n"
     ]
    }
   ],
   "source": [
    "e_test_pred_nmc, t_test_pred_nmc, c_test_pred_nmc = get_predictions(nmc_model, x_test)\n",
    "e_test_regards_nmc, t_test_regards_nmc, c_test_regards_nmc = get_predictions(nmc_model, x_regards)\n",
    "\n",
    "test_ci_nmc = discrete_ci(\n",
    "    s_test, y_test,\n",
    "    e_test_pred_nmc[:, np.newaxis] * t_test_pred_nmc\n",
    ")\n",
    "\n",
    "regards_ci_nmc = discrete_ci(\n",
    "    s_regards, y_regards,\n",
    "    e_test_regards_nmc[:, np.newaxis] * t_test_regards_nmc\n",
    ")\n",
    "\n",
    "print(test_ci_nmc, regards_ci_nmc)"
   ]
  },
  {
   "cell_type": "code",
   "execution_count": 98,
   "id": "666f8362",
   "metadata": {},
   "outputs": [
    {
     "name": "stdout",
     "output_type": "stream",
     "text": [
      "Epoch 66 | Train Loss: 2.1412 | Train NLL: 2.0994 | Val Loss: 2.1643 | Val NLL: 2.12307\n",
      "\n"
     ]
    }
   ],
   "source": [
    "nsurv_model = NSurv(n_bins=N_BINS, lr=.03, ld=10.)\n",
    "        \n",
    "train_model(\n",
    "    nsurv_model, (x_train, y_train, s_train), (x_val, y_val, s_val),\n",
    "    300, batch_size=500,\n",
    "    learning_rate=1e-3)"
   ]
  },
  {
   "cell_type": "code",
   "execution_count": 101,
   "id": "a8ebd4f6",
   "metadata": {},
   "outputs": [
    {
     "name": "stdout",
     "output_type": "stream",
     "text": [
      "0.7184070244944746 0.6650356378426125\n"
     ]
    }
   ],
   "source": [
    "e_test_pred_nsurv, t_test_pred_nsurv, c_test_pred_nsurv = get_predictions(nsurv_model, x_test)\n",
    "e_test_regards_nsurv, t_test_regards_nsurv, c_test_regards_nsurv = get_predictions(nsurv_model, x_regards)\n",
    "\n",
    "test_ci_nsurv = discrete_ci(\n",
    "    s_test, y_test,\n",
    "    e_test_pred_nsurv[:, np.newaxis] * t_test_pred_nsurv\n",
    ")\n",
    "\n",
    "regards_ci_nsurv = discrete_ci(\n",
    "    s_regards, y_regards,\n",
    "    e_test_regards_nsurv[:, np.newaxis] * t_test_regards_nsurv\n",
    ")\n",
    "\n",
    "print(test_ci_nsurv, regards_ci_nsurv)"
   ]
  },
  {
   "cell_type": "code",
   "execution_count": null,
   "id": "e64bd3e2",
   "metadata": {},
   "outputs": [],
   "source": []
  }
 ],
 "metadata": {
  "kernelspec": {
   "display_name": "Python 3 (ipykernel)",
   "language": "python",
   "name": "python3"
  },
  "language_info": {
   "codemirror_mode": {
    "name": "ipython",
    "version": 3
   },
   "file_extension": ".py",
   "mimetype": "text/x-python",
   "name": "python",
   "nbconvert_exporter": "python",
   "pygments_lexer": "ipython3",
   "version": "3.8.12"
  }
 },
 "nbformat": 4,
 "nbformat_minor": 5
}
